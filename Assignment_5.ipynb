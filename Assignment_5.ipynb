{
 "cells": [
  {
   "cell_type": "code",
   "execution_count": 31,
   "id": "63eef6a8-5a70-41e0-9a69-e285c4b3c7a6",
   "metadata": {
    "colab": {
     "base_uri": "https://localhost:8080/"
    },
    "id": "63eef6a8-5a70-41e0-9a69-e285c4b3c7a6",
    "outputId": "2222482a-6ecd-460d-8973-251474870d8f"
   },
   "outputs": [],
   "source": [
    "import pandas as pd\n",
    "from mlxtend.preprocessing import TransactionEncoder\n",
    "from mlxtend.frequent_patterns import apriori\n",
    "from mlxtend.frequent_patterns import association_rules\n",
    "import matplotlib.pyplot as plt\n"
   ]
  },
  {
   "cell_type": "code",
   "execution_count": 33,
   "id": "0892e64b-f6af-4a86-8e2d-dbbdc5787d81",
   "metadata": {},
   "outputs": [
    {
     "name": "stdout",
     "output_type": "stream",
     "text": [
      "                        name   mpg  cylinders  displacement  horsepower  \\\n",
      "0  chevrolet chevelle malibu  18.0          8         307.0       130.0   \n",
      "1          buick skylark 320  15.0          8         350.0       165.0   \n",
      "2         plymouth satellite  18.0          8         318.0       150.0   \n",
      "3              amc rebel sst  16.0          8         304.0       150.0   \n",
      "4                ford torino  17.0          8         302.0       140.0   \n",
      "\n",
      "   weight  acceleration  model_year origin  \n",
      "0    3504          12.0          70    usa  \n",
      "1    3693          11.5          70    usa  \n",
      "2    3436          11.0          70    usa  \n",
      "3    3433          12.0          70    usa  \n",
      "4    3449          10.5          70    usa  \n",
      "<class 'pandas.core.frame.DataFrame'>\n",
      "RangeIndex: 398 entries, 0 to 397\n",
      "Data columns (total 9 columns):\n",
      " #   Column        Non-Null Count  Dtype  \n",
      "---  ------        --------------  -----  \n",
      " 0   name          398 non-null    object \n",
      " 1   mpg           398 non-null    float64\n",
      " 2   cylinders     398 non-null    int64  \n",
      " 3   displacement  398 non-null    float64\n",
      " 4   horsepower    392 non-null    float64\n",
      " 5   weight        398 non-null    int64  \n",
      " 6   acceleration  398 non-null    float64\n",
      " 7   model_year    398 non-null    int64  \n",
      " 8   origin        398 non-null    object \n",
      "dtypes: float64(4), int64(3), object(2)\n",
      "memory usage: 28.1+ KB\n",
      "None\n"
     ]
    }
   ],
   "source": [
    "\n",
    "# Load the dataset\n",
    "df = pd.read_csv('Automobile.csv')\n",
    "\n",
    "# Check the first few rows and dataset info\n",
    "print(df.head())\n",
    "print(df.info())"
   ]
  },
  {
   "cell_type": "code",
   "execution_count": 35,
   "id": "321b7963-ae51-4ee0-a170-472295997855",
   "metadata": {},
   "outputs": [
    {
     "name": "stdout",
     "output_type": "stream",
     "text": [
      "  antecedents consequents  antecedent support  consequent support   support  \\\n",
      "0        (80)         (4)            0.072864            0.512563  0.062814   \n",
      "1         (4)        (80)            0.512563            0.072864  0.062814   \n",
      "2        (81)         (4)            0.072864            0.512563  0.052764   \n",
      "3         (4)        (81)            0.512563            0.072864  0.052764   \n",
      "4        (82)         (4)            0.077889            0.512563  0.070352   \n",
      "\n",
      "   confidence      lift  representativity  leverage  conviction  \\\n",
      "0    0.862069  1.681880               1.0  0.025467    3.533920   \n",
      "1    0.122549  1.681880               1.0  0.025467    1.056624   \n",
      "2    0.724138  1.412779               1.0  0.015416    1.766960   \n",
      "3    0.102941  1.412779               1.0  0.015416    1.033528   \n",
      "4    0.903226  1.762176               1.0  0.030429    5.036851   \n",
      "\n",
      "   zhangs_metric   jaccard  certainty  kulczynski  \n",
      "0       0.437290  0.120192   0.717028    0.492309  \n",
      "1       0.831753  0.120192   0.053589    0.492309  \n",
      "2       0.315137  0.099057   0.434056    0.413540  \n",
      "3       0.599411  0.099057   0.032441    0.413540  \n",
      "4       0.469054  0.135266   0.801463    0.520240  \n"
     ]
    }
   ],
   "source": [
    "df['origin'] = df['origin'].astype(str)\n",
    "df['cylinders'] = df['cylinders'].astype(str)\n",
    "df['model_year'] = df['model_year'].astype(str)\n",
    "\n",
    "# Create a list of transactions (each row represents a transaction)\n",
    "transactions = df[['origin', 'cylinders', 'model_year']].values.tolist()\n",
    "\n",
    "# Initialize the TransactionEncoder\n",
    "te = TransactionEncoder()\n",
    "\n",
    "# Transform the transactions into a one-hot encoded boolean matrix\n",
    "te_ary = te.fit(transactions).transform(transactions)\n",
    "\n",
    "# Convert the boolean matrix into a DataFrame\n",
    "df_encoded = pd.DataFrame(te_ary, columns=te.columns_)\n",
    "\n",
    "# Now, let's apply the Apriori algorithm to find frequent itemsets\n",
    "frequent_itemsets = apriori(df_encoded, min_support=0.05, use_colnames=True)\n",
    "\n",
    "# Generate association rules from the frequent itemsets\n",
    "rules = association_rules(frequent_itemsets, metric=\"lift\", min_threshold=1)\n",
    "\n",
    "# Display the first few rules\n",
    "print(rules.head())\n",
    "\n"
   ]
  },
  {
   "cell_type": "code",
   "execution_count": 37,
   "id": "b397d98c-5c54-4fa0-b16c-86b28ecb6c19",
   "metadata": {},
   "outputs": [
    {
     "data": {
      "image/png": "[encoded data removed]",
      "text/plain": [
       "<Figure size 640x480 with 1 Axes>"
      ]
     },
     "metadata": {},
     "output_type": "display_data"
    }
   ],
   "source": [
    "# Optional: Visualize the support vs confidence for the rules\n",
    "plt.scatter(rules['support'], rules['confidence'])\n",
    "plt.xlabel('Support')\n",
    "plt.ylabel('Confidence')\n",
    "plt.title('Support vs Confidence for Association Rules')\n",
    "plt.show()"
   ]
  },
  {
   "cell_type": "code",
   "execution_count": 38,
   "id": "68039acb-b7be-4e5a-b403-5d12c7501586",
   "metadata": {
    "colab": {
     "base_uri": "https://localhost:8080/"
    },
    "id": "68039acb-b7be-4e5a-b403-5d12c7501586",
    "outputId": "c2f81ef9-ea52-46bb-b3dc-53459965122f"
   },
   "outputs": [
    {
     "name": "stdout",
     "output_type": "stream",
     "text": [
      "  antecedents consequents  antecedent support  consequent support   support  \\\n",
      "0    (europe)         (4)            0.175879            0.512563  0.158291   \n",
      "1     (japan)         (4)            0.198492            0.512563  0.173367   \n",
      "2         (6)       (usa)            0.211055            0.625628  0.185930   \n",
      "3         (8)       (usa)            0.258794            0.625628  0.258794   \n",
      "4       (usa)         (8)            0.625628            0.258794  0.258794   \n",
      "\n",
      "   confidence      lift  representativity  leverage  conviction  \\\n",
      "0    0.900000  1.755882               1.0  0.068142    4.874372   \n",
      "1    0.873418  1.704021               1.0  0.071627    3.850754   \n",
      "2    0.880952  1.408109               1.0  0.053888    3.144724   \n",
      "3    1.000000  1.598394               1.0  0.096885         inf   \n",
      "4    0.413655  1.598394               1.0  0.096885    1.264112   \n",
      "\n",
      "   zhangs_metric   jaccard  certainty  kulczynski  \n",
      "0       0.522358  0.298578   0.794845    0.604412  \n",
      "1       0.515470  0.322430   0.740311    0.605827  \n",
      "2       0.367361  0.285714   0.682007    0.589071  \n",
      "3       0.505085  0.413655   1.000000    0.706827  \n",
      "4       1.000000  0.413655   0.208931    0.706827  \n"
     ]
    }
   ],
   "source": [
    "\n",
    "# Run Apriori to find frequent itemsets\n",
    "frequent_itemsets = apriori(df_encoded, min_support=0.1, use_colnames=True)\n",
    "\n",
    "# Generate rules with confidence ≥ 0.6\n",
    "rules = association_rules(frequent_itemsets, metric=\"confidence\", min_threshold=0.4)\n",
    "\n",
    "# Display the rules\n",
    "print(rules)\n"
   ]
  },
  {
   "cell_type": "code",
   "execution_count": 41,
   "id": "d8f6d73b-813c-4ed9-9ce2-696ab5133b9e",
   "metadata": {
    "colab": {
     "base_uri": "https://localhost:8080/"
    },
    "id": "d8f6d73b-813c-4ed9-9ce2-696ab5133b9e",
    "outputId": "1db6c335-4fbe-44b5-c0ed-7467d5b43b3f"
   },
   "outputs": [
    {
     "name": "stdout",
     "output_type": "stream",
     "text": [
      "\n",
      "Frequent Itemsets:\n",
      "     support     itemsets\n",
      "0   0.512563          (4)\n",
      "1   0.211055          (6)\n",
      "2   0.100503         (73)\n",
      "3   0.258794          (8)\n",
      "4   0.175879     (europe)\n",
      "5   0.198492      (japan)\n",
      "6   0.625628        (usa)\n",
      "7   0.158291  (europe, 4)\n",
      "8   0.173367   (japan, 4)\n",
      "9   0.180905     (usa, 4)\n",
      "10  0.185930     (6, usa)\n",
      "11  0.258794     (8, usa)\n"
     ]
    }
   ],
   "source": [
    "# 6. Display Results\n",
    "print(\"\\nFrequent Itemsets:\")\n",
    "print(frequent_itemsets)\n",
    "\n"
   ]
  },
  {
   "cell_type": "code",
   "execution_count": 43,
   "id": "411e89e9-0bf4-46c3-aa1e-9d3ec956c780",
   "metadata": {
    "colab": {
     "base_uri": "https://localhost:8080/"
    },
    "id": "411e89e9-0bf4-46c3-aa1e-9d3ec956c780",
    "outputId": "6ae4754b-6e5d-421d-84af-7fd8fd964299"
   },
   "outputs": [
    {
     "name": "stdout",
     "output_type": "stream",
     "text": [
      "\n",
      "Association Rules:\n",
      "  antecedents consequents  antecedent support  consequent support   support  \\\n",
      "0    (europe)         (4)            0.175879            0.512563  0.158291   \n",
      "1     (japan)         (4)            0.198492            0.512563  0.173367   \n",
      "2         (6)       (usa)            0.211055            0.625628  0.185930   \n",
      "3         (8)       (usa)            0.258794            0.625628  0.258794   \n",
      "4       (usa)         (8)            0.625628            0.258794  0.258794   \n",
      "\n",
      "   confidence      lift  representativity  leverage  conviction  \\\n",
      "0    0.900000  1.755882               1.0  0.068142    4.874372   \n",
      "1    0.873418  1.704021               1.0  0.071627    3.850754   \n",
      "2    0.880952  1.408109               1.0  0.053888    3.144724   \n",
      "3    1.000000  1.598394               1.0  0.096885         inf   \n",
      "4    0.413655  1.598394               1.0  0.096885    1.264112   \n",
      "\n",
      "   zhangs_metric   jaccard  certainty  kulczynski  \n",
      "0       0.522358  0.298578   0.794845    0.604412  \n",
      "1       0.515470  0.322430   0.740311    0.605827  \n",
      "2       0.367361  0.285714   0.682007    0.589071  \n",
      "3       0.505085  0.413655   1.000000    0.706827  \n",
      "4       1.000000  0.413655   0.208931    0.706827  \n"
     ]
    }
   ],
   "source": [
    "print(\"\\nAssociation Rules:\")\n",
    "print(rules)\n",
    "\n"
   ]
  },
  {
   "cell_type": "code",
   "execution_count": 45,
   "id": "9295971a-65ac-4d37-a6ce-a5192bca8d08",
   "metadata": {
    "colab": {
     "base_uri": "https://localhost:8080/"
    },
    "id": "9295971a-65ac-4d37-a6ce-a5192bca8d08",
    "outputId": "5226c51a-4bec-4b54-9353-1445cd816b21"
   },
   "outputs": [
    {
     "name": "stdout",
     "output_type": "stream",
     "text": [
      "\n",
      "Rules with high confidence:\n",
      "  antecedents consequents  antecedent support  consequent support   support  \\\n",
      "0    (europe)         (4)            0.175879            0.512563  0.158291   \n",
      "1     (japan)         (4)            0.198492            0.512563  0.173367   \n",
      "2         (6)       (usa)            0.211055            0.625628  0.185930   \n",
      "3         (8)       (usa)            0.258794            0.625628  0.258794   \n",
      "\n",
      "   confidence      lift  representativity  leverage  conviction  \\\n",
      "0    0.900000  1.755882               1.0  0.068142    4.874372   \n",
      "1    0.873418  1.704021               1.0  0.071627    3.850754   \n",
      "2    0.880952  1.408109               1.0  0.053888    3.144724   \n",
      "3    1.000000  1.598394               1.0  0.096885         inf   \n",
      "\n",
      "   zhangs_metric   jaccard  certainty  kulczynski  \n",
      "0       0.522358  0.298578   0.794845    0.604412  \n",
      "1       0.515470  0.322430   0.740311    0.605827  \n",
      "2       0.367361  0.285714   0.682007    0.589071  \n",
      "3       0.505085  0.413655   1.000000    0.706827  \n"
     ]
    }
   ],
   "source": [
    "# 7. Example filtering rules.\n",
    "print(\"\\nRules with high confidence:\")\n",
    "print(rules[rules['confidence'] >= 0.5]) #example filter\n"
   ]
  },
  {
   "cell_type": "code",
   "execution_count": 47,
   "id": "9aced6e4-e1aa-4451-99a2-19811a40e4b0",
   "metadata": {
    "colab": {
     "base_uri": "https://localhost:8080/"
    },
    "id": "9aced6e4-e1aa-4451-99a2-19811a40e4b0",
    "outputId": "425eb14b-ab03-420e-f25b-37651480d901"
   },
   "outputs": [
    {
     "name": "stdout",
     "output_type": "stream",
     "text": [
      "\n",
      "Rules sorted by lift:\n",
      "  antecedents consequents  antecedent support  consequent support   support  \\\n",
      "0    (europe)         (4)            0.175879            0.512563  0.158291   \n",
      "1     (japan)         (4)            0.198492            0.512563  0.173367   \n",
      "3         (8)       (usa)            0.258794            0.625628  0.258794   \n",
      "4       (usa)         (8)            0.625628            0.258794  0.258794   \n",
      "2         (6)       (usa)            0.211055            0.625628  0.185930   \n",
      "\n",
      "   confidence      lift  representativity  leverage  conviction  \\\n",
      "0    0.900000  1.755882               1.0  0.068142    4.874372   \n",
      "1    0.873418  1.704021               1.0  0.071627    3.850754   \n",
      "3    1.000000  1.598394               1.0  0.096885         inf   \n",
      "4    0.413655  1.598394               1.0  0.096885    1.264112   \n",
      "2    0.880952  1.408109               1.0  0.053888    3.144724   \n",
      "\n",
      "   zhangs_metric   jaccard  certainty  kulczynski  \n",
      "0       0.522358  0.298578   0.794845    0.604412  \n",
      "1       0.515470  0.322430   0.740311    0.605827  \n",
      "3       0.505085  0.413655   1.000000    0.706827  \n",
      "4       1.000000  0.413655   0.208931    0.706827  \n",
      "2       0.367361  0.285714   0.682007    0.589071  \n"
     ]
    }
   ],
   "source": [
    "print(\"\\nRules sorted by lift:\")\n",
    "print(rules.sort_values(by=\"lift\", ascending=False).head(10)) #example sort"
   ]
  },
  {
   "cell_type": "code",
   "execution_count": 49,
   "id": "c465c560-6a3e-4464-addc-e4887c643aca",
   "metadata": {
    "colab": {
     "base_uri": "https://localhost:8080/",
     "height": 564
    },
    "id": "c465c560-6a3e-4464-addc-e4887c643aca",
    "outputId": "5661f02d-9ca3-4ae5-e2e9-5356fc32c3d9"
   },
   "outputs": [
    {
     "data": {
      "image/png": "[encoded data removed]",
      "text/plain": [
       "<Figure size 800x600 with 1 Axes>"
      ]
     },
     "metadata": {},
     "output_type": "display_data"
    }
   ],
   "source": [
    "# 5. Visualization: Scatter plot of support vs. confidence\n",
    "def plot_scatter_support_confidence(rules):\n",
    "\n",
    "    plt.figure(figsize=(8, 6))\n",
    "    plt.scatter(rules['support'], rules['confidence'], alpha=0.5)\n",
    "    plt.xlabel('Support')\n",
    "    plt.ylabel('Confidence')\n",
    "    plt.title('Support vs. Confidence')\n",
    "    plt.grid(True)\n",
    "    plt.show()\n",
    "\n",
    "plot_scatter_support_confidence(rules)"
   ]
  },
  {
   "cell_type": "code",
   "execution_count": 51,
   "id": "f680e32c-c39c-4e2c-a7ae-1d203e51209c",
   "metadata": {
    "colab": {
     "base_uri": "https://localhost:8080/",
     "height": 564
    },
    "id": "f680e32c-c39c-4e2c-a7ae-1d203e51209c",
    "outputId": "bb5d9bfd-d1b1-4871-f028-a5cf47d9c2a3"
   },
   "outputs": [
    {
     "data": {
      "image/png": "[encoded data removed]",
      "text/plain": [
       "<Figure size 800x600 with 1 Axes>"
      ]
     },
     "metadata": {},
     "output_type": "display_data"
    }
   ],
   "source": [
    "# 6. Visualization: Scatter plot of support vs. lift\n",
    "def plot_scatter_support_lift(rules):\n",
    "    \"\"\"Plots a scatter plot of support vs. lift.\"\"\"\n",
    "    plt.figure(figsize=(8, 6))\n",
    "    plt.scatter(rules['support'], rules['lift'], alpha=0.5)\n",
    "    plt.xlabel('Support')\n",
    "    plt.ylabel('Lift')\n",
    "    plt.title('Support vs. Lift')\n",
    "    plt.grid(True)\n",
    "    plt.show()\n",
    "\n",
    "plot_scatter_support_lift(rules)"
   ]
  },
  {
   "cell_type": "code",
   "execution_count": null,
   "id": "57475dc6-4298-49a2-b772-3a6ff4881f66",
   "metadata": {
    "id": "57475dc6-4298-49a2-b772-3a6ff4881f66"
   },
   "outputs": [],
   "source": []
  }
 ],
 "metadata": {
  "colab": {
   "provenance": []
  },
  "kernelspec": {
   "display_name": "Python 3 (ipykernel)",
   "language": "python",
   "name": "python3"
  },
  "language_info": {
   "codemirror_mode": {
    "name": "ipython",
    "version": 3
   },
   "file_extension": ".py",
   "mimetype": "text/x-python",
   "name": "python",
   "nbconvert_exporter": "python",
   "pygments_lexer": "ipython3",
   "version": "3.12.7"
  }
 },
 "nbformat": 4,
 "nbformat_minor": 5
}
